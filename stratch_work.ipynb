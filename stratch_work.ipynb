{
 "cells": [
  {
   "cell_type": "code",
   "execution_count": 1,
   "metadata": {},
   "outputs": [],
   "source": [
    "import torch\n",
    "import pinocchio\n",
    "import numpy as np"
   ]
  },
  {
   "cell_type": "code",
   "execution_count": 2,
   "metadata": {},
   "outputs": [
    {
     "name": "stdout",
     "output_type": "stream",
     "text": [
      "model name: go1\n",
      "q: [ 3.34        1.47        0.3         0.66637995 -0.36009713  0.61946022\n",
      " -0.20624463  0.23423844  3.03461917 -2.54470707  0.18462828 -0.60144893\n",
      " -2.34922853 -0.6261383   3.48526482 -2.51560936 -0.17096998 -0.01277695\n",
      " -2.60799901]\n",
      "universe                 :  0.00  0.00  0.00\n",
      "root_joint               :  3.34  1.47  0.30\n",
      "FL_hip_joint             :  3.32  1.30  0.39\n",
      "FL_thigh_joint           :  3.33  1.25  0.33\n",
      "FL_calf_joint            :  3.54  1.26  0.32\n",
      "FR_hip_joint             :  3.35  1.36  0.46\n",
      "FR_thigh_joint           :  3.35  1.42  0.52\n",
      "FR_calf_joint            :  3.17  1.34  0.60\n",
      "RL_hip_joint             :  3.33  1.58  0.14\n",
      "RL_thigh_joint           :  3.27  1.54  0.10\n",
      "RL_calf_joint            :  3.40  1.39  0.04\n",
      "RR_hip_joint             :  3.36  1.64  0.21\n",
      "RR_thigh_joint           :  3.39  1.69  0.26\n",
      "RR_calf_joint            :  3.19  1.75  0.32\n"
     ]
    }
   ],
   "source": [
    "go1_urdf_path = \"/home/oyoungquist/Research/PiLPA/PiLPA-Diffusion/go1_simplified.urdf\"\n",
    "\n",
    "# Load the urdf model\n",
    "model = pinocchio.buildModelFromUrdf(go1_urdf_path, pinocchio.JointModelFreeFlyer())\n",
    "print(\"model name: \" + model.name)\n",
    " \n",
    "# Create data required by the algorithms\n",
    "data = model.createData()\n",
    " \n",
    "# Sample a random configuration\n",
    "q = pinocchio.randomConfiguration(model)\n",
    "q[0] = 3.34\n",
    "q[1] = 1.47\n",
    "q[2] = 0.30\n",
    "print(f\"q: {q.T}\")\n",
    " \n",
    "# Perform the forward kinematics over the kinematic tree\n",
    "pinocchio.forwardKinematics(model, data, q)\n",
    "# Print out the placement of each joint of the kinematic tree\n",
    "for name, oMi in zip(model.names, data.oMi):\n",
    "    print(\"{:<24} : {: .2f} {: .2f} {: .2f}\".format(name, *oMi.translation.T.flat))\n",
    "    # print(\"{:<24} : {: .2f} {: .2f} {: .2f}\".format(name, *oMi.rotation.T.flat))"
   ]
  },
  {
   "cell_type": "code",
   "execution_count": 3,
   "metadata": {},
   "outputs": [
    {
     "name": "stdout",
     "output_type": "stream",
     "text": [
      "Nb joints = 14 (nq=19,nv=18)\n",
      "  Joint 0 universe: parent=0\n",
      "  Joint 1 root_joint: parent=0\n",
      "  Joint 2 FL_hip_joint: parent=1\n",
      "  Joint 3 FL_thigh_joint: parent=2\n",
      "  Joint 4 FL_calf_joint: parent=3\n",
      "  Joint 5 FR_hip_joint: parent=1\n",
      "  Joint 6 FR_thigh_joint: parent=5\n",
      "  Joint 7 FR_calf_joint: parent=6\n",
      "  Joint 8 RL_hip_joint: parent=1\n",
      "  Joint 9 RL_thigh_joint: parent=8\n",
      "  Joint 10 RL_calf_joint: parent=9\n",
      "  Joint 11 RR_hip_joint: parent=1\n",
      "  Joint 12 RR_thigh_joint: parent=11\n",
      "  Joint 13 RR_calf_joint: parent=12\n",
      "\n"
     ]
    }
   ],
   "source": [
    "print(model)"
   ]
  },
  {
   "cell_type": "code",
   "execution_count": null,
   "metadata": {},
   "outputs": [],
   "source": [
    "last_q = q[-1]\n",
    "print(last_q)"
   ]
  },
  {
   "cell_type": "code",
   "execution_count": null,
   "metadata": {},
   "outputs": [],
   "source": [
    "# Perform the forward kinematics over the kinematic tree\n",
    "pinocchio.forwardKinematics(model, data, q)\n",
    "# Print out the placement of each joint of the kinematic tree\n",
    "for name, oMi in zip(model.names, data.oMi):\n",
    "    print(\"{:<24} : {: .2f} {: .2f} {: .2f}\".format(name, *oMi.translation.T.flat))\n",
    "    # print(\"{:<24} : {: .2f} {: .2f} {: .2f}\".format(name, *oMi.rotation.T.flat))"
   ]
  },
  {
   "cell_type": "code",
   "execution_count": null,
   "metadata": {},
   "outputs": [],
   "source": [
    "# q = np.random.randn(model.nq)\n",
    "print(len(q))\n",
    "vq = np.random.randn(model.nv)\n",
    "aq0 = np.zeros(model.nv)\n",
    "# compute dynamic drift -- Coriolis, centrifugal, gravity\n",
    "b = pinocchio.rnea(model, data, q, vq, aq0)\n",
    "# compute mass matrix M\n",
    "M = pinocchio.crba(model, data, q)\n",
    "\n",
    "print(\"M.shape: \", M.shape)\n",
    "print(\"b.shape: \", b.shape)\n",
    "\n",
    "print(b)"
   ]
  },
  {
   "cell_type": "code",
   "execution_count": null,
   "metadata": {},
   "outputs": [],
   "source": [
    "for f in model.frames:\n",
    "    print(f.name,f.parent)"
   ]
  },
  {
   "cell_type": "code",
   "execution_count": null,
   "metadata": {},
   "outputs": [],
   "source": []
  }
 ],
 "metadata": {
  "kernelspec": {
   "display_name": "picd",
   "language": "python",
   "name": "python3"
  },
  "language_info": {
   "codemirror_mode": {
    "name": "ipython",
    "version": 3
   },
   "file_extension": ".py",
   "mimetype": "text/x-python",
   "name": "python",
   "nbconvert_exporter": "python",
   "pygments_lexer": "ipython3",
   "version": "3.11.3"
  }
 },
 "nbformat": 4,
 "nbformat_minor": 2
}
